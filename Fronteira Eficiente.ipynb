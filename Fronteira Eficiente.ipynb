{
  "nbformat": 4,
  "nbformat_minor": 0,
  "metadata": {
    "colab": {
      "name": "Markowitz",
      "provenance": []
    },
    "kernelspec": {
      "name": "python3",
      "display_name": "Python 3"
    }
  },
  "cells": [
    {
      "cell_type": "code",
      "metadata": {
        "id": "ufajNQnwLRj-",
        "colab_type": "code",
        "colab": {}
      },
      "source": [
        "from pandas_datareader import data as web\n",
        "import numpy as np\n",
        "import pandas as pd\n",
        "import matplotlib.pyplot as plt\n",
        "from datetime import datetime\n",
        "plt.style.use(\"fivethirtyeight\")"
      ],
      "execution_count": null,
      "outputs": []
    },
    {
      "cell_type": "code",
      "metadata": {
        "id": "Cj4TXmXjV_mJ",
        "colab_type": "code",
        "colab": {}
      },
      "source": [
        "ativos = [\"VALE3.SA\",\"FLRY3.SA\",\"ITSA4.SA\",\"JBSS3.SA\",\"BBAS3.SA\"]"
      ],
      "execution_count": null,
      "outputs": []
    },
    {
      "cell_type": "code",
      "metadata": {
        "id": "p0oUBTt71g0O",
        "colab_type": "code",
        "colab": {}
      },
      "source": [
        "dataInicio = \"2016-01-01\"\n",
        "dataFim = datetime.today().strftime(\"%Y-%m-%d\")"
      ],
      "execution_count": null,
      "outputs": []
    },
    {
      "cell_type": "code",
      "metadata": {
        "id": "ehquhaPN2ro4",
        "colab_type": "code",
        "colab": {}
      },
      "source": [
        "df = pd.DataFrame()\n",
        "\n",
        "for ativo in ativos:\n",
        "  df[ativo] = web.DataReader(ativo, data_source=\"yahoo\", start=dataInicio, end=dataFim)[\"Adj Close\"]"
      ],
      "execution_count": null,
      "outputs": []
    },
    {
      "cell_type": "code",
      "metadata": {
        "id": "OKK1uEi03xar",
        "colab_type": "code",
        "colab": {
          "base_uri": "https://localhost:8080/",
          "height": 437
        },
        "outputId": "79db11b2-8a59-433b-dbfb-1d4b9cb39803"
      },
      "source": [
        "df"
      ],
      "execution_count": null,
      "outputs": [
        {
          "output_type": "execute_result",
          "data": {
            "text/html": [
              "<div>\n",
              "<style scoped>\n",
              "    .dataframe tbody tr th:only-of-type {\n",
              "        vertical-align: middle;\n",
              "    }\n",
              "\n",
              "    .dataframe tbody tr th {\n",
              "        vertical-align: top;\n",
              "    }\n",
              "\n",
              "    .dataframe thead th {\n",
              "        text-align: right;\n",
              "    }\n",
              "</style>\n",
              "<table border=\"1\" class=\"dataframe\">\n",
              "  <thead>\n",
              "    <tr style=\"text-align: right;\">\n",
              "      <th></th>\n",
              "      <th>VALE3.SA</th>\n",
              "      <th>FLRY3.SA</th>\n",
              "      <th>ITSA4.SA</th>\n",
              "      <th>JBSS3.SA</th>\n",
              "      <th>BBAS3.SA</th>\n",
              "    </tr>\n",
              "    <tr>\n",
              "      <th>Date</th>\n",
              "      <th></th>\n",
              "      <th></th>\n",
              "      <th></th>\n",
              "      <th></th>\n",
              "      <th></th>\n",
              "    </tr>\n",
              "  </thead>\n",
              "  <tbody>\n",
              "    <tr>\n",
              "      <th>2016-01-04</th>\n",
              "      <td>11.309562</td>\n",
              "      <td>5.764288</td>\n",
              "      <td>3.999628</td>\n",
              "      <td>11.152088</td>\n",
              "      <td>11.706713</td>\n",
              "    </tr>\n",
              "    <tr>\n",
              "      <th>2016-01-05</th>\n",
              "      <td>11.158054</td>\n",
              "      <td>5.832327</td>\n",
              "      <td>4.066288</td>\n",
              "      <td>10.596796</td>\n",
              "      <td>11.747819</td>\n",
              "    </tr>\n",
              "    <tr>\n",
              "      <th>2016-01-06</th>\n",
              "      <td>10.338134</td>\n",
              "      <td>5.802087</td>\n",
              "      <td>4.102647</td>\n",
              "      <td>9.625038</td>\n",
              "      <td>11.747819</td>\n",
              "    </tr>\n",
              "    <tr>\n",
              "      <th>2016-01-07</th>\n",
              "      <td>9.723193</td>\n",
              "      <td>5.809646</td>\n",
              "      <td>4.042049</td>\n",
              "      <td>10.180329</td>\n",
              "      <td>11.468301</td>\n",
              "    </tr>\n",
              "    <tr>\n",
              "      <th>2016-01-08</th>\n",
              "      <td>9.393443</td>\n",
              "      <td>5.832327</td>\n",
              "      <td>4.042049</td>\n",
              "      <td>10.365424</td>\n",
              "      <td>11.468301</td>\n",
              "    </tr>\n",
              "    <tr>\n",
              "      <th>...</th>\n",
              "      <td>...</td>\n",
              "      <td>...</td>\n",
              "      <td>...</td>\n",
              "      <td>...</td>\n",
              "      <td>...</td>\n",
              "    </tr>\n",
              "    <tr>\n",
              "      <th>2020-06-22</th>\n",
              "      <td>55.000000</td>\n",
              "      <td>24.799999</td>\n",
              "      <td>10.150000</td>\n",
              "      <td>21.650000</td>\n",
              "      <td>33.240002</td>\n",
              "    </tr>\n",
              "    <tr>\n",
              "      <th>2020-06-23</th>\n",
              "      <td>55.590000</td>\n",
              "      <td>25.150000</td>\n",
              "      <td>10.060000</td>\n",
              "      <td>21.530001</td>\n",
              "      <td>33.529999</td>\n",
              "    </tr>\n",
              "    <tr>\n",
              "      <th>2020-06-24</th>\n",
              "      <td>55.389999</td>\n",
              "      <td>24.559999</td>\n",
              "      <td>9.770000</td>\n",
              "      <td>21.830000</td>\n",
              "      <td>32.220001</td>\n",
              "    </tr>\n",
              "    <tr>\n",
              "      <th>2020-06-25</th>\n",
              "      <td>56.000000</td>\n",
              "      <td>24.940001</td>\n",
              "      <td>9.960000</td>\n",
              "      <td>21.709999</td>\n",
              "      <td>33.009998</td>\n",
              "    </tr>\n",
              "    <tr>\n",
              "      <th>2020-06-26</th>\n",
              "      <td>55.619999</td>\n",
              "      <td>24.360001</td>\n",
              "      <td>9.660000</td>\n",
              "      <td>21.180000</td>\n",
              "      <td>31.820000</td>\n",
              "    </tr>\n",
              "  </tbody>\n",
              "</table>\n",
              "<p>1115 rows × 5 columns</p>\n",
              "</div>"
            ],
            "text/plain": [
              "             VALE3.SA   FLRY3.SA   ITSA4.SA   JBSS3.SA   BBAS3.SA\n",
              "Date                                                             \n",
              "2016-01-04  11.309562   5.764288   3.999628  11.152088  11.706713\n",
              "2016-01-05  11.158054   5.832327   4.066288  10.596796  11.747819\n",
              "2016-01-06  10.338134   5.802087   4.102647   9.625038  11.747819\n",
              "2016-01-07   9.723193   5.809646   4.042049  10.180329  11.468301\n",
              "2016-01-08   9.393443   5.832327   4.042049  10.365424  11.468301\n",
              "...               ...        ...        ...        ...        ...\n",
              "2020-06-22  55.000000  24.799999  10.150000  21.650000  33.240002\n",
              "2020-06-23  55.590000  25.150000  10.060000  21.530001  33.529999\n",
              "2020-06-24  55.389999  24.559999   9.770000  21.830000  32.220001\n",
              "2020-06-25  56.000000  24.940001   9.960000  21.709999  33.009998\n",
              "2020-06-26  55.619999  24.360001   9.660000  21.180000  31.820000\n",
              "\n",
              "[1115 rows x 5 columns]"
            ]
          },
          "metadata": {
            "tags": []
          },
          "execution_count": 135
        }
      ]
    },
    {
      "cell_type": "code",
      "metadata": {
        "id": "AAf2vw7535lO",
        "colab_type": "code",
        "colab": {
          "base_uri": "https://localhost:8080/",
          "height": 325
        },
        "outputId": "880c9778-0f80-433c-c97b-6f1eee8fbe54"
      },
      "source": [
        "titulo = \"Ativos da carteira\"\n",
        "carteiraTeste = df\n",
        "\n",
        "for i in carteiraTeste.columns.values:\n",
        "  plt.plot(carteiraTeste[i], label=i)\n",
        "\n",
        "plt.title(titulo)\n",
        "plt.xlabel(\"Data\")\n",
        "plt.ylabel(\"Preço R$\")\n",
        "plt.legend(carteiraTeste.columns.values)\n",
        "plt.show()"
      ],
      "execution_count": null,
      "outputs": [
        {
          "output_type": "display_data",
          "data": {
            "image/png": "[encoded data removed]",
            "text/plain": [
              "<Figure size 432x288 with 1 Axes>"
            ]
          },
          "metadata": {
            "tags": []
          }
        }
      ]
    },
    {
      "cell_type": "code",
      "metadata": {
        "id": "sTORQuvJ6zKB",
        "colab_type": "code",
        "colab": {
          "base_uri": "https://localhost:8080/",
          "height": 437
        },
        "outputId": "7657fca7-8199-4e5c-c9d2-7c04519e3587"
      },
      "source": [
        "retornoDia = df.pct_change()\n",
        "retornoDia"
      ],
      "execution_count": null,
      "outputs": [
        {
          "output_type": "execute_result",
          "data": {
            "text/html": [
              "<div>\n",
              "<style scoped>\n",
              "    .dataframe tbody tr th:only-of-type {\n",
              "        vertical-align: middle;\n",
              "    }\n",
              "\n",
              "    .dataframe tbody tr th {\n",
              "        vertical-align: top;\n",
              "    }\n",
              "\n",
              "    .dataframe thead th {\n",
              "        text-align: right;\n",
              "    }\n",
              "</style>\n",
              "<table border=\"1\" class=\"dataframe\">\n",
              "  <thead>\n",
              "    <tr style=\"text-align: right;\">\n",
              "      <th></th>\n",
              "      <th>VALE3.SA</th>\n",
              "      <th>FLRY3.SA</th>\n",
              "      <th>ITSA4.SA</th>\n",
              "      <th>JBSS3.SA</th>\n",
              "      <th>BBAS3.SA</th>\n",
              "    </tr>\n",
              "    <tr>\n",
              "      <th>Date</th>\n",
              "      <th></th>\n",
              "      <th></th>\n",
              "      <th></th>\n",
              "      <th></th>\n",
              "      <th></th>\n",
              "    </tr>\n",
              "  </thead>\n",
              "  <tbody>\n",
              "    <tr>\n",
              "      <th>2016-01-04</th>\n",
              "      <td>NaN</td>\n",
              "      <td>NaN</td>\n",
              "      <td>NaN</td>\n",
              "      <td>NaN</td>\n",
              "      <td>NaN</td>\n",
              "    </tr>\n",
              "    <tr>\n",
              "      <th>2016-01-05</th>\n",
              "      <td>-0.013396</td>\n",
              "      <td>0.011804</td>\n",
              "      <td>0.016666</td>\n",
              "      <td>-0.049793</td>\n",
              "      <td>0.003511</td>\n",
              "    </tr>\n",
              "    <tr>\n",
              "      <th>2016-01-06</th>\n",
              "      <td>-0.073482</td>\n",
              "      <td>-0.005185</td>\n",
              "      <td>0.008942</td>\n",
              "      <td>-0.091703</td>\n",
              "      <td>0.000000</td>\n",
              "    </tr>\n",
              "    <tr>\n",
              "      <th>2016-01-07</th>\n",
              "      <td>-0.059483</td>\n",
              "      <td>0.001303</td>\n",
              "      <td>-0.014770</td>\n",
              "      <td>0.057692</td>\n",
              "      <td>-0.023793</td>\n",
              "    </tr>\n",
              "    <tr>\n",
              "      <th>2016-01-08</th>\n",
              "      <td>-0.033914</td>\n",
              "      <td>0.003904</td>\n",
              "      <td>0.000000</td>\n",
              "      <td>0.018182</td>\n",
              "      <td>0.000000</td>\n",
              "    </tr>\n",
              "    <tr>\n",
              "      <th>...</th>\n",
              "      <td>...</td>\n",
              "      <td>...</td>\n",
              "      <td>...</td>\n",
              "      <td>...</td>\n",
              "      <td>...</td>\n",
              "    </tr>\n",
              "    <tr>\n",
              "      <th>2020-06-22</th>\n",
              "      <td>-0.003081</td>\n",
              "      <td>-0.012346</td>\n",
              "      <td>-0.024976</td>\n",
              "      <td>-0.031753</td>\n",
              "      <td>-0.020625</td>\n",
              "    </tr>\n",
              "    <tr>\n",
              "      <th>2020-06-23</th>\n",
              "      <td>0.010727</td>\n",
              "      <td>0.014113</td>\n",
              "      <td>-0.008867</td>\n",
              "      <td>-0.005543</td>\n",
              "      <td>0.008724</td>\n",
              "    </tr>\n",
              "    <tr>\n",
              "      <th>2020-06-24</th>\n",
              "      <td>-0.003598</td>\n",
              "      <td>-0.023459</td>\n",
              "      <td>-0.028827</td>\n",
              "      <td>0.013934</td>\n",
              "      <td>-0.039069</td>\n",
              "    </tr>\n",
              "    <tr>\n",
              "      <th>2020-06-25</th>\n",
              "      <td>0.011013</td>\n",
              "      <td>0.015472</td>\n",
              "      <td>0.019447</td>\n",
              "      <td>-0.005497</td>\n",
              "      <td>0.024519</td>\n",
              "    </tr>\n",
              "    <tr>\n",
              "      <th>2020-06-26</th>\n",
              "      <td>-0.006786</td>\n",
              "      <td>-0.023256</td>\n",
              "      <td>-0.030121</td>\n",
              "      <td>-0.024413</td>\n",
              "      <td>-0.036050</td>\n",
              "    </tr>\n",
              "  </tbody>\n",
              "</table>\n",
              "<p>1115 rows × 5 columns</p>\n",
              "</div>"
            ],
            "text/plain": [
              "            VALE3.SA  FLRY3.SA  ITSA4.SA  JBSS3.SA  BBAS3.SA\n",
              "Date                                                        \n",
              "2016-01-04       NaN       NaN       NaN       NaN       NaN\n",
              "2016-01-05 -0.013396  0.011804  0.016666 -0.049793  0.003511\n",
              "2016-01-06 -0.073482 -0.005185  0.008942 -0.091703  0.000000\n",
              "2016-01-07 -0.059483  0.001303 -0.014770  0.057692 -0.023793\n",
              "2016-01-08 -0.033914  0.003904  0.000000  0.018182  0.000000\n",
              "...              ...       ...       ...       ...       ...\n",
              "2020-06-22 -0.003081 -0.012346 -0.024976 -0.031753 -0.020625\n",
              "2020-06-23  0.010727  0.014113 -0.008867 -0.005543  0.008724\n",
              "2020-06-24 -0.003598 -0.023459 -0.028827  0.013934 -0.039069\n",
              "2020-06-25  0.011013  0.015472  0.019447 -0.005497  0.024519\n",
              "2020-06-26 -0.006786 -0.023256 -0.030121 -0.024413 -0.036050\n",
              "\n",
              "[1115 rows x 5 columns]"
            ]
          },
          "metadata": {
            "tags": []
          },
          "execution_count": 137
        }
      ]
    },
    {
      "cell_type": "code",
      "metadata": {
        "id": "iDet57Cr7cJg",
        "colab_type": "code",
        "colab": {
          "base_uri": "https://localhost:8080/",
          "height": 198
        },
        "outputId": "d5abe650-29dc-4e04-e37c-7cb97d20c588"
      },
      "source": [
        "matrixCovariancia = retornoDia.cov() * 252\n",
        "matrixCovariancia"
      ],
      "execution_count": null,
      "outputs": [
        {
          "output_type": "execute_result",
          "data": {
            "text/html": [
              "<div>\n",
              "<style scoped>\n",
              "    .dataframe tbody tr th:only-of-type {\n",
              "        vertical-align: middle;\n",
              "    }\n",
              "\n",
              "    .dataframe tbody tr th {\n",
              "        vertical-align: top;\n",
              "    }\n",
              "\n",
              "    .dataframe thead th {\n",
              "        text-align: right;\n",
              "    }\n",
              "</style>\n",
              "<table border=\"1\" class=\"dataframe\">\n",
              "  <thead>\n",
              "    <tr style=\"text-align: right;\">\n",
              "      <th></th>\n",
              "      <th>VALE3.SA</th>\n",
              "      <th>FLRY3.SA</th>\n",
              "      <th>ITSA4.SA</th>\n",
              "      <th>JBSS3.SA</th>\n",
              "      <th>BBAS3.SA</th>\n",
              "    </tr>\n",
              "  </thead>\n",
              "  <tbody>\n",
              "    <tr>\n",
              "      <th>VALE3.SA</th>\n",
              "      <td>0.251188</td>\n",
              "      <td>0.044752</td>\n",
              "      <td>0.060572</td>\n",
              "      <td>0.065129</td>\n",
              "      <td>0.094733</td>\n",
              "    </tr>\n",
              "    <tr>\n",
              "      <th>FLRY3.SA</th>\n",
              "      <td>0.044752</td>\n",
              "      <td>0.120095</td>\n",
              "      <td>0.049479</td>\n",
              "      <td>0.051821</td>\n",
              "      <td>0.075514</td>\n",
              "    </tr>\n",
              "    <tr>\n",
              "      <th>ITSA4.SA</th>\n",
              "      <td>0.060572</td>\n",
              "      <td>0.049479</td>\n",
              "      <td>0.107491</td>\n",
              "      <td>0.056604</td>\n",
              "      <td>0.125911</td>\n",
              "    </tr>\n",
              "    <tr>\n",
              "      <th>JBSS3.SA</th>\n",
              "      <td>0.065129</td>\n",
              "      <td>0.051821</td>\n",
              "      <td>0.056604</td>\n",
              "      <td>0.328742</td>\n",
              "      <td>0.085820</td>\n",
              "    </tr>\n",
              "    <tr>\n",
              "      <th>BBAS3.SA</th>\n",
              "      <td>0.094733</td>\n",
              "      <td>0.075514</td>\n",
              "      <td>0.125911</td>\n",
              "      <td>0.085820</td>\n",
              "      <td>0.233867</td>\n",
              "    </tr>\n",
              "  </tbody>\n",
              "</table>\n",
              "</div>"
            ],
            "text/plain": [
              "          VALE3.SA  FLRY3.SA  ITSA4.SA  JBSS3.SA  BBAS3.SA\n",
              "VALE3.SA  0.251188  0.044752  0.060572  0.065129  0.094733\n",
              "FLRY3.SA  0.044752  0.120095  0.049479  0.051821  0.075514\n",
              "ITSA4.SA  0.060572  0.049479  0.107491  0.056604  0.125911\n",
              "JBSS3.SA  0.065129  0.051821  0.056604  0.328742  0.085820\n",
              "BBAS3.SA  0.094733  0.075514  0.125911  0.085820  0.233867"
            ]
          },
          "metadata": {
            "tags": []
          },
          "execution_count": 138
        }
      ]
    },
    {
      "cell_type": "code",
      "metadata": {
        "id": "22GVGL2B_pde",
        "colab_type": "code",
        "colab": {
          "base_uri": "https://localhost:8080/",
          "height": 292
        },
        "outputId": "55aa884e-f63c-4262-8428-751b65171d26"
      },
      "source": [
        "#Otimização\n",
        "!pip install PyPortfolioOpt\n",
        "from pypfopt.efficient_frontier import EfficientFrontier\n",
        "from pypfopt import risk_models\n",
        "from pypfopt import expected_returns\n",
        "from pypfopt import plotting\n",
        "from pypfopt import cla"
      ],
      "execution_count": null,
      "outputs": [
        {
          "output_type": "stream",
          "text": [
            "Requirement already satisfied: PyPortfolioOpt in /usr/local/lib/python3.6/dist-packages (1.2.3)\n",
            "Requirement already satisfied: cvxpy<1.1,>=1.0 in /usr/local/lib/python3.6/dist-packages (from PyPortfolioOpt) (1.0.31)\n",
            "Requirement already satisfied: scipy<2.0,>=1.3 in /usr/local/lib/python3.6/dist-packages (from PyPortfolioOpt) (1.4.1)\n",
            "Requirement already satisfied: pandas>=0.19 in /usr/local/lib/python3.6/dist-packages (from PyPortfolioOpt) (1.0.5)\n",
            "Requirement already satisfied: numpy<2.0,>=1.12 in /usr/local/lib/python3.6/dist-packages (from PyPortfolioOpt) (1.18.5)\n",
            "Requirement already satisfied: multiprocess in /usr/local/lib/python3.6/dist-packages (from cvxpy<1.1,>=1.0->PyPortfolioOpt) (0.70.10)\n",
            "Requirement already satisfied: scs>=1.1.3 in /usr/local/lib/python3.6/dist-packages (from cvxpy<1.1,>=1.0->PyPortfolioOpt) (2.1.2)\n",
            "Requirement already satisfied: ecos>=2 in /usr/local/lib/python3.6/dist-packages (from cvxpy<1.1,>=1.0->PyPortfolioOpt) (2.0.7.post1)\n",
            "Requirement already satisfied: osqp>=0.4.1 in /usr/local/lib/python3.6/dist-packages (from cvxpy<1.1,>=1.0->PyPortfolioOpt) (0.6.1)\n",
            "Requirement already satisfied: pytz>=2017.2 in /usr/local/lib/python3.6/dist-packages (from pandas>=0.19->PyPortfolioOpt) (2018.9)\n",
            "Requirement already satisfied: python-dateutil>=2.6.1 in /usr/local/lib/python3.6/dist-packages (from pandas>=0.19->PyPortfolioOpt) (2.8.1)\n",
            "Requirement already satisfied: dill>=0.3.2 in /usr/local/lib/python3.6/dist-packages (from multiprocess->cvxpy<1.1,>=1.0->PyPortfolioOpt) (0.3.2)\n",
            "Requirement already satisfied: future in /usr/local/lib/python3.6/dist-packages (from osqp>=0.4.1->cvxpy<1.1,>=1.0->PyPortfolioOpt) (0.16.0)\n",
            "Requirement already satisfied: six>=1.5 in /usr/local/lib/python3.6/dist-packages (from python-dateutil>=2.6.1->pandas>=0.19->PyPortfolioOpt) (1.12.0)\n"
          ],
          "name": "stdout"
        }
      ]
    },
    {
      "cell_type": "code",
      "metadata": {
        "id": "r1OIe_QbAYTz",
        "colab_type": "code",
        "colab": {}
      },
      "source": [
        "media = expected_returns.mean_historical_return(carteiraTeste)\n",
        "s = risk_models.sample_cov(carteiraTeste)"
      ],
      "execution_count": null,
      "outputs": []
    },
    {
      "cell_type": "code",
      "metadata": {
        "id": "U7n1FAttQ4qD",
        "colab_type": "code",
        "colab": {
          "base_uri": "https://localhost:8080/",
          "height": 108
        },
        "outputId": "67c5d345-8906-4313-cb9f-f2f345b8c6f4"
      },
      "source": [
        "#Markowitz\n",
        "cla = cla.CLA(media, s)\n",
        "\n",
        "#Escolha entre miníma volatilidade ou carteira ideal\n",
        "#pesos = cla.max_sharpe()\n",
        "pesos = cla.min_volatility()\n",
        "\n",
        "clean_weights = cla.clean_weights()\n",
        "print(\"Pesos: \", clean_weights)\n",
        "cla.portfolio_performance(verbose=True, risk_free_rate=0.0225)"
      ],
      "execution_count": null,
      "outputs": [
        {
          "output_type": "stream",
          "text": [
            "Pesos:  OrderedDict([('VALE3.SA', 0.11191), ('FLRY3.SA', 0.38318), ('ITSA4.SA', 0.42972), ('JBSS3.SA', 0.07518), ('BBAS3.SA', 0.0)])\n",
            "Expected annual return: 33.5%\n",
            "Annual volatility: 27.6%\n",
            "Sharpe Ratio: 1.13\n"
          ],
          "name": "stdout"
        },
        {
          "output_type": "execute_result",
          "data": {
            "text/plain": [
              "(0.33479385241737186, 0.27601628494397584, 1.131432706880898)"
            ]
          },
          "metadata": {
            "tags": []
          },
          "execution_count": 141
        }
      ]
    },
    {
      "cell_type": "code",
      "metadata": {
        "id": "A8Evs34rmENz",
        "colab_type": "code",
        "colab": {
          "base_uri": "https://localhost:8080/",
          "height": 54
        },
        "outputId": "037e0e72-5c14-4954-b392-b4d47809b3cb"
      },
      "source": [
        "from pypfopt.discrete_allocation import DiscreteAllocation, get_latest_prices\n",
        "\n",
        "ultimosPrecos = get_latest_prices(carteiraTeste)\n",
        "pesos = clean_weights\n",
        "valorPortifolio = 5000\n",
        "da = DiscreteAllocation(pesos, ultimosPrecos, valorPortifolio)\n",
        "\n",
        "alocado, resto = da.lp_portfolio()\n",
        "print(\"Qtd de cotas: \", alocado)\n",
        "print(\"Resto (R$):\", resto)"
      ],
      "execution_count": null,
      "outputs": [
        {
          "output_type": "stream",
          "text": [
            "Qtd de cotas:  {'VALE3.SA': 10.0, 'FLRY3.SA': 79.0, 'ITSA4.SA': 221.0, 'JBSS3.SA': 18.0}\n",
            "Resto (R$): 3.259990692138672\n"
          ],
          "name": "stdout"
        }
      ]
    },
    {
      "cell_type": "code",
      "metadata": {
        "id": "1kXkZwvtgzvZ",
        "colab_type": "code",
        "colab": {
          "base_uri": "https://localhost:8080/",
          "height": 579
        },
        "outputId": "dfe46b50-2aec-4562-952c-d32a46b13914"
      },
      "source": [
        "#PLOTTING\n",
        "plotting.plot_efficient_frontier(cla)\n",
        "plotting.plot_covariance(matrixCovariancia)"
      ],
      "execution_count": null,
      "outputs": [
        {
          "output_type": "display_data",
          "data": {
            "image/png": "[encoded data removed]",
            "text/plain": [
              "<Figure size 432x288 with 1 Axes>"
            ]
          },
          "metadata": {
            "tags": []
          }
        },
        {
          "output_type": "display_data",
          "data": {
            "image/png": "[encoded data removed]",
            "text/plain": [
              "<Figure size 432x288 with 2 Axes>"
            ]
          },
          "metadata": {
            "tags": []
          }
        },
        {
          "output_type": "execute_result",
          "data": {
            "text/plain": [
              "<matplotlib.axes._subplots.AxesSubplot at 0x7fd21f2669e8>"
            ]
          },
          "metadata": {
            "tags": []
          },
          "execution_count": 143
        }
      ]
    }
  ]
}
